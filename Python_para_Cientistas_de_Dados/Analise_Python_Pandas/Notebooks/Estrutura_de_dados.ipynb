{
  "cells": [
    {
      "cell_type": "markdown",
      "metadata": {
        "id": "LdE2rkjcAhYf"
      },
      "source": [
        "# Análisando dados com Python e Pandas"
      ]
    },
    {
      "cell_type": "markdown",
      "metadata": {
        "id": "JmH7_ZmZH1GT"
      },
      "source": [
        "## Introdução"
      ]
    },
    {
      "cell_type": "markdown",
      "metadata": {
        "id": "HRQSijc5H5xk"
      },
      "source": [
        "Neste DIO Platform Lab, apresentado no Bootcamp Geração Tech Unimed-BH - Ciência de Dados, apresentando a biblioteca Pandas, uma biblioteca Python open source para análise de dados. Ele permite que o Python trabalhe com dados semelhantes a planilhas, permitindo que você carregue, manipule e combine dados rapidamente, entre outras funções."
      ]
    },
    {
      "cell_type": "markdown",
      "metadata": {
        "id": "Y2SzYJKmB_-Y"
      },
      "source": [
        "## Estrutura de dados"
      ]
    },
    {
      "cell_type": "markdown",
      "metadata": {
        "id": "mQ-NcTHLCNLX"
      },
      "source": [
        "### Listas"
      ]
    },
    {
      "cell_type": "code",
      "execution_count": null,
      "metadata": {
        "colab": {
          "base_uri": "https://localhost:8080/"
        },
        "id": "0X6WpQgDCMgE",
        "outputId": "92f604a5-95c4-4fba-a3e5-cdf41d943551"
      },
      "outputs": [
        {
          "data": {
            "text/plain": [
              "[1, 2, 3]"
            ]
          },
          "execution_count": 321,
          "metadata": {},
          "output_type": "execute_result"
        }
      ],
      "source": [
        "# Criando uma lista chamada animais\n",
        "animais = [1,2,3]\n",
        "animais"
      ]
    },
    {
      "cell_type": "code",
      "execution_count": null,
      "metadata": {
        "colab": {
          "base_uri": "https://localhost:8080/"
        },
        "id": "mPEWEmLaBR2z",
        "outputId": "a35f7c39-6f0b-43a1-a101-5bf7f7cf6461"
      },
      "outputs": [
        {
          "data": {
            "text/plain": [
              "['cachorro', 'gato', 12345, 6.5]"
            ]
          },
          "execution_count": 322,
          "metadata": {},
          "output_type": "execute_result"
        }
      ],
      "source": [
        "animais = [\"cachorro\",\"gato\",12345, 6.5]\n",
        "animais"
      ]
    },
    {
      "cell_type": "code",
      "execution_count": null,
      "metadata": {
        "colab": {
          "base_uri": "https://localhost:8080/",
          "height": 35
        },
        "id": "Ih1jLsq9CnCr",
        "outputId": "5a779477-97a3-45d3-d5ce-d5f9bf7efa5b"
      },
      "outputs": [
        {
          "data": {
            "text/plain": [
              "'cachorro'"
            ]
          },
          "execution_count": 323,
          "metadata": {},
          "output_type": "execute_result"
        }
      ],
      "source": [
        "# Imprimindo o primeiro elemento da lista\n",
        "animais[0]"
      ]
    },
    {
      "cell_type": "code",
      "execution_count": null,
      "metadata": {
        "colab": {
          "base_uri": "https://localhost:8080/"
        },
        "id": "2r18oBv0Cy8I",
        "outputId": "0a15fc38-ae64-4a6c-c9a1-3900cb28bf89"
      },
      "outputs": [
        {
          "data": {
            "text/plain": [
              "6.5"
            ]
          },
          "execution_count": 324,
          "metadata": {},
          "output_type": "execute_result"
        }
      ],
      "source": [
        "# Imprimindo o 4º elemento da lista\n",
        "animais[3]"
      ]
    },
    {
      "cell_type": "code",
      "execution_count": null,
      "metadata": {
        "id": "bR63y1IRC7Xk"
      },
      "outputs": [],
      "source": [
        "# Substituindo o primeiro elemento da lista\n",
        "animais[0] = \"papagaio\""
      ]
    },
    {
      "cell_type": "code",
      "execution_count": null,
      "metadata": {
        "colab": {
          "base_uri": "https://localhost:8080/"
        },
        "id": "cwAvH0MrDEtw",
        "outputId": "d443a81b-25b2-4529-a0e0-78586b621144"
      },
      "outputs": [
        {
          "data": {
            "text/plain": [
              "['papagaio', 'gato', 12345, 6.5]"
            ]
          },
          "execution_count": 326,
          "metadata": {},
          "output_type": "execute_result"
        }
      ],
      "source": [
        "animais"
      ]
    },
    {
      "cell_type": "code",
      "execution_count": null,
      "metadata": {
        "id": "klo7TmLNDQp-"
      },
      "outputs": [],
      "source": [
        "# Removendo gato da lista\n",
        "animais.remove(\"gato\")"
      ]
    },
    {
      "cell_type": "code",
      "execution_count": null,
      "metadata": {
        "id": "Fpp2oLKTDaFq",
        "outputId": "fff68da8-5675-420b-8674-692878cd7896"
      },
      "outputs": [
        {
          "data": {
            "text/plain": [
              "['papagaio', 12345, 6.5]"
            ]
          },
          "execution_count": 328,
          "metadata": {},
          "output_type": "execute_result"
        }
      ],
      "source": [
        "animais"
      ]
    },
    {
      "cell_type": "code",
      "execution_count": null,
      "metadata": {
        "colab": {
          "base_uri": "https://localhost:8080/"
        },
        "id": "dp88vxFJDlPv",
        "outputId": "dc0fce2f-a7ae-4510-ab96-6b0b09a83d44"
      },
      "outputs": [
        {
          "data": {
            "text/plain": [
              "3"
            ]
          },
          "execution_count": 329,
          "metadata": {},
          "output_type": "execute_result"
        }
      ],
      "source": [
        "# Tamanho de uma lista (itens)\n",
        "len(animais)"
      ]
    },
    {
      "cell_type": "code",
      "execution_count": null,
      "metadata": {
        "colab": {
          "base_uri": "https://localhost:8080/"
        },
        "id": "DxeerPm6Du1X",
        "outputId": "99271ce1-0281-40e0-aff8-df4a734616df"
      },
      "outputs": [
        {
          "data": {
            "text/plain": [
              "False"
            ]
          },
          "execution_count": 330,
          "metadata": {},
          "output_type": "execute_result"
        }
      ],
      "source": [
        "# Como saber se um elemento faz parte de uma lista \n",
        "\"gato\" in animais"
      ]
    },
    {
      "cell_type": "code",
      "execution_count": null,
      "metadata": {
        "id": "BJm6yn4QEAEe"
      },
      "outputs": [],
      "source": [
        "# Trabalhando com lista numerica\n",
        "lista = [500,30,300,80,10]"
      ]
    },
    {
      "cell_type": "code",
      "execution_count": null,
      "metadata": {
        "colab": {
          "base_uri": "https://localhost:8080/"
        },
        "id": "h2xAP-3sEJ3L",
        "outputId": "c450bd60-7ce7-450b-b4a1-70c13f70af06"
      },
      "outputs": [
        {
          "data": {
            "text/plain": [
              "500"
            ]
          },
          "execution_count": 332,
          "metadata": {},
          "output_type": "execute_result"
        }
      ],
      "source": [
        "# Maior elemento da lista\n",
        "max(lista)"
      ]
    },
    {
      "cell_type": "code",
      "execution_count": null,
      "metadata": {
        "colab": {
          "base_uri": "https://localhost:8080/"
        },
        "id": "YBWEajpMEU87",
        "outputId": "4ebfc4bc-6cae-4d48-d64c-56ecdf9e6ad5"
      },
      "outputs": [
        {
          "data": {
            "text/plain": [
              "10"
            ]
          },
          "execution_count": 333,
          "metadata": {},
          "output_type": "execute_result"
        }
      ],
      "source": [
        "# Menor elemento da lista\n",
        "min(lista)"
      ]
    },
    {
      "cell_type": "code",
      "execution_count": null,
      "metadata": {
        "id": "pWVbx_RfEdp3"
      },
      "outputs": [],
      "source": [
        "# Colocar um novo elemento na lista animais \n",
        "animais.append(\"leão\")"
      ]
    },
    {
      "cell_type": "code",
      "execution_count": null,
      "metadata": {
        "colab": {
          "base_uri": "https://localhost:8080/"
        },
        "id": "gvIQ4OQcFajD",
        "outputId": "e01c1951-752e-4509-fb5a-269d25c7e0ec"
      },
      "outputs": [
        {
          "data": {
            "text/plain": [
              "['papagaio', 12345, 6.5, 'leão']"
            ]
          },
          "execution_count": 335,
          "metadata": {},
          "output_type": "execute_result"
        }
      ],
      "source": [
        "animais"
      ]
    },
    {
      "cell_type": "code",
      "execution_count": null,
      "metadata": {
        "id": "5Sor9FXKFdAk"
      },
      "outputs": [],
      "source": [
        "# Colocar mais de um elemento na lista animais\n",
        "animais.extend([\"cobra\",6])"
      ]
    },
    {
      "cell_type": "code",
      "execution_count": null,
      "metadata": {
        "colab": {
          "base_uri": "https://localhost:8080/"
        },
        "id": "hALSy7kUFlYf",
        "outputId": "7befc79c-5451-45d8-fcc6-85ac8fd725a8"
      },
      "outputs": [
        {
          "data": {
            "text/plain": [
              "['papagaio', 12345, 6.5, 'leão', 'cobra', 6]"
            ]
          },
          "execution_count": 337,
          "metadata": {},
          "output_type": "execute_result"
        }
      ],
      "source": [
        "animais"
      ]
    },
    {
      "cell_type": "code",
      "execution_count": null,
      "metadata": {
        "id": "q5IHqWTgFmTV",
        "outputId": "045d3858-a5a7-4489-afe6-dacb7d85d627"
      },
      "outputs": [
        {
          "data": {
            "text/plain": [
              "0"
            ]
          },
          "execution_count": 338,
          "metadata": {},
          "output_type": "execute_result"
        }
      ],
      "source": [
        "# Mostrar quantas vezes o elemento esta na lista\n",
        "animais.count(\"cachorro\")"
      ]
    },
    {
      "cell_type": "code",
      "execution_count": null,
      "metadata": {
        "id": "7xbbnONGGgam"
      },
      "outputs": [],
      "source": [
        "# Como organizar uma lista numerica \n",
        "lista.sort()"
      ]
    },
    {
      "cell_type": "code",
      "execution_count": null,
      "metadata": {
        "colab": {
          "base_uri": "https://localhost:8080/"
        },
        "id": "8orv_Kw8GvqH",
        "outputId": "43bc9e16-c15a-4b52-ba97-7244e520c351"
      },
      "outputs": [
        {
          "data": {
            "text/plain": [
              "[10, 30, 80, 300, 500]"
            ]
          },
          "execution_count": 340,
          "metadata": {},
          "output_type": "execute_result"
        }
      ],
      "source": [
        "lista"
      ]
    },
    {
      "cell_type": "markdown",
      "metadata": {
        "id": "3KAilP29Gyiz"
      },
      "source": [
        "### Tuplas"
      ]
    },
    {
      "cell_type": "code",
      "execution_count": null,
      "metadata": {
        "colab": {
          "base_uri": "https://localhost:8080/"
        },
        "id": "bUWUGMRAG2z_",
        "outputId": "48cb7605-ac92-42fb-ff4b-e5ce158b22e0"
      },
      "outputs": [
        {
          "data": {
            "text/plain": [
              "('Banana', 'Maçã', 10, 50)"
            ]
          },
          "execution_count": 341,
          "metadata": {},
          "output_type": "execute_result"
        }
      ],
      "source": [
        "# As tuplas usam parênteses como sintaxe\n",
        "tp = (\"Banana\", \"Maçã\", 10, 50) \n",
        "tp"
      ]
    },
    {
      "cell_type": "code",
      "execution_count": null,
      "metadata": {
        "colab": {
          "base_uri": "https://localhost:8080/",
          "height": 35
        },
        "id": "u1wWrbrhHpDk",
        "outputId": "71f950cf-4082-48cc-a514-eaf6d693b9ed"
      },
      "outputs": [
        {
          "data": {
            "text/plain": [
              "'Banana'"
            ]
          },
          "execution_count": 342,
          "metadata": {},
          "output_type": "execute_result"
        }
      ],
      "source": [
        "# Retornando o primeiro elemento\n",
        "tp[0] "
      ]
    },
    {
      "cell_type": "code",
      "execution_count": null,
      "metadata": {
        "colab": {
          "base_uri": "https://localhost:8080/"
        },
        "id": "0uZ3hNbAIM7v",
        "outputId": "320b3797-9e2e-43c2-c0d4-f102413c8623"
      },
      "outputs": [
        {
          "data": {
            "text/plain": [
              "1"
            ]
          },
          "execution_count": 343,
          "metadata": {},
          "output_type": "execute_result"
        }
      ],
      "source": [
        "# Mostra quantas vezes a palavra \"Maçã\" apareceu na tupla\n",
        "tp.count(\"Maçã\")"
      ]
    },
    {
      "cell_type": "code",
      "execution_count": null,
      "metadata": {
        "colab": {
          "base_uri": "https://localhost:8080/"
        },
        "id": "sg8hdG4tIT-8",
        "outputId": "a8be41d6-4ca1-4929-9922-0161080a7fad"
      },
      "outputs": [
        {
          "data": {
            "text/plain": [
              "('Banana', 'Maçã')"
            ]
          },
          "execution_count": 344,
          "metadata": {},
          "output_type": "execute_result"
        }
      ],
      "source": [
        "# Mostra os elementos do indice 0 até o valor depois dos dois pontos -1, ou seja. neste caso 0 até 1\n",
        "tp[0:2]"
      ]
    },
    {
      "cell_type": "code",
      "execution_count": null,
      "metadata": {
        "id": "Vh_2EqObIXJX"
      },
      "outputs": [],
      "source": []
    },
    {
      "cell_type": "markdown",
      "metadata": {
        "id": "SO-MTOo3IZbQ"
      },
      "source": [
        "### Dicionário"
      ]
    },
    {
      "cell_type": "code",
      "execution_count": null,
      "metadata": {
        "colab": {
          "base_uri": "https://localhost:8080/"
        },
        "id": "BjC5Ca26IeHp",
        "outputId": "6158d288-b502-4d43-cc71-f6b2a3d9e94f"
      },
      "outputs": [
        {
          "data": {
            "text/plain": [
              "{'Maçã': 20, 'Banana': 10, 'Laranja': 15, 'Uva': 5}"
            ]
          },
          "execution_count": 345,
          "metadata": {},
          "output_type": "execute_result"
        }
      ],
      "source": [
        "# Para criar um dicionário utilizamos as {}\n",
        "# Dicionários trabalham com o conceito de chave e valor\n",
        "dc = {\"Maçã\":20, \"Banana\":10, \"Laranja\":15, \"Uva\":5} \n",
        "dc"
      ]
    },
    {
      "cell_type": "code",
      "execution_count": null,
      "metadata": {
        "colab": {
          "base_uri": "https://localhost:8080/"
        },
        "id": "UlV0njiTI8l7",
        "outputId": "e319a519-4d03-4e7c-8eca-31f38f5cfd42"
      },
      "outputs": [
        {
          "data": {
            "text/plain": [
              "20"
            ]
          },
          "execution_count": 346,
          "metadata": {},
          "output_type": "execute_result"
        }
      ],
      "source": [
        "# Acessando o valor de um dicionário através da chave\n",
        "dc[\"Maçã\"]"
      ]
    },
    {
      "cell_type": "code",
      "execution_count": null,
      "metadata": {
        "colab": {
          "base_uri": "https://localhost:8080/"
        },
        "id": "PzIIQCrZJBxV",
        "outputId": "97b7b13a-236b-4333-8fc0-585dc70c721c"
      },
      "outputs": [
        {
          "data": {
            "text/plain": [
              "{'Maçã': 25, 'Banana': 10, 'Laranja': 15, 'Uva': 5}"
            ]
          },
          "execution_count": 347,
          "metadata": {},
          "output_type": "execute_result"
        }
      ],
      "source": [
        "# Atualizando o valor da Maçã\n",
        "dc[\"Maçã\"] = 25 \n",
        "dc"
      ]
    },
    {
      "cell_type": "code",
      "execution_count": null,
      "metadata": {
        "colab": {
          "base_uri": "https://localhost:8080/"
        },
        "id": "pv-K_T5GJUwm",
        "outputId": "fcf3077a-b1ed-4e75-94fe-34571980113e"
      },
      "outputs": [
        {
          "data": {
            "text/plain": [
              "dict_keys(['Maçã', 'Banana', 'Laranja', 'Uva'])"
            ]
          },
          "execution_count": 348,
          "metadata": {},
          "output_type": "execute_result"
        }
      ],
      "source": [
        "# Retornando todas as chaves do dicionário\n",
        "dc.keys() "
      ]
    },
    {
      "cell_type": "code",
      "execution_count": null,
      "metadata": {
        "colab": {
          "base_uri": "https://localhost:8080/"
        },
        "id": "qdRfJ5jCJU4x",
        "outputId": "fcd39ba5-e411-448c-c4b5-552b37182091"
      },
      "outputs": [
        {
          "data": {
            "text/plain": [
              "dict_values([25, 10, 15, 5])"
            ]
          },
          "execution_count": 349,
          "metadata": {},
          "output_type": "execute_result"
        }
      ],
      "source": [
        "# Retornando os valores do dicionário\n",
        "dc.values() "
      ]
    },
    {
      "cell_type": "code",
      "execution_count": null,
      "metadata": {
        "colab": {
          "base_uri": "https://localhost:8080/"
        },
        "id": "FSvqw5lRJU7Z",
        "outputId": "e8f6ae55-1eb0-493a-d0f2-e315392a1eb2"
      },
      "outputs": [
        {
          "data": {
            "text/plain": [
              "22"
            ]
          },
          "execution_count": 350,
          "metadata": {},
          "output_type": "execute_result"
        }
      ],
      "source": [
        "# Verificando se já existe uma chave no dicionário e caso não exista inserir\n",
        "dc.setdefault(\"Limão\", 22) "
      ]
    },
    {
      "cell_type": "code",
      "execution_count": null,
      "metadata": {
        "colab": {
          "base_uri": "https://localhost:8080/"
        },
        "id": "cDbMg99EJU-V",
        "outputId": "9295024b-7ded-465a-9aaa-e9c69b8d3fd7"
      },
      "outputs": [
        {
          "data": {
            "text/plain": [
              "{'Maçã': 25, 'Banana': 10, 'Laranja': 15, 'Uva': 5, 'Limão': 22}"
            ]
          },
          "execution_count": 351,
          "metadata": {},
          "output_type": "execute_result"
        }
      ],
      "source": [
        "dc"
      ]
    }
  ],
  "metadata": {
    "colab": {
      "provenance": []
    },
    "kernelspec": {
      "display_name": "Python 3.10.7 64-bit (microsoft store)",
      "language": "python",
      "name": "python3"
    },
    "language_info": {
      "codemirror_mode": {
        "name": "ipython",
        "version": 3
      },
      "file_extension": ".py",
      "mimetype": "text/x-python",
      "name": "python",
      "nbconvert_exporter": "python",
      "pygments_lexer": "ipython3",
      "version": "3.10.7"
    },
    "vscode": {
      "interpreter": {
        "hash": "f7f8c097c8b77234b1554043a16e456bc3013eb7e1454957444d1d61c725966c"
      }
    }
  },
  "nbformat": 4,
  "nbformat_minor": 0
}